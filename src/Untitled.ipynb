{
 "cells": [
  {
   "cell_type": "code",
   "execution_count": 1,
   "metadata": {},
   "outputs": [],
   "source": [
    "#!/usr/bin/env python3\n",
    "# -*- coding: utf-8 -*-\n",
    "\"\"\"\n",
    "Created on Sun Feb 24 23:10:39 2019\n",
    "\n",
    "@author: niko\n",
    "\"\"\"\n",
    "\n",
    "import numpy as np\n",
    "import matplotlib.pyplot as plt"
   ]
  },
  {
   "cell_type": "code",
   "execution_count": 2,
   "metadata": {},
   "outputs": [],
   "source": [
    "# Load elapsed time by varing number of threads. (20 times for each configuration)\n",
    "t_threads = np.loadtxt('data.dat').reshape(6, 20)\n",
    "\n",
    "x_left = np.exp2([5, 6, 7, 8, 9, 10])\n",
    "mean_t_threads = t_threads.mean(axis=1) # u\n",
    "std_t_threads = t_threads.std(axis=1)   # std_dev\n",
    "upper_threads = mean_t_threads + 3*std_t_threads\n",
    "lower_threads = mean_t_threads - 3*std_t_threads"
   ]
  },
  {
   "cell_type": "code",
   "execution_count": null,
   "metadata": {},
   "outputs": [],
   "source": []
  },
  {
   "cell_type": "code",
   "execution_count": null,
   "metadata": {},
   "outputs": [],
   "source": [
    "fig, axs = plt.subplots(1, 2, figsize=(800, 600))\n",
    "\n",
    "ax1 = axs[0]\n",
    "\n",
    "left = ax1.plot(x_left, mean_t_threads, label='mean elapsed time u (ms)')"
   ]
  },
  {
   "cell_type": "code",
   "execution_count": null,
   "metadata": {},
   "outputs": [],
   "source": []
  }
 ],
 "metadata": {
  "kernelspec": {
   "display_name": "Python 3",
   "language": "python",
   "name": "python3"
  },
  "language_info": {
   "codemirror_mode": {
    "name": "ipython",
    "version": 3
   },
   "file_extension": ".py",
   "mimetype": "text/x-python",
   "name": "python",
   "nbconvert_exporter": "python",
   "pygments_lexer": "ipython3",
   "version": "3.6.5"
  }
 },
 "nbformat": 4,
 "nbformat_minor": 2
}
